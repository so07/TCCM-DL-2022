{
 "cells": [
  {
   "cell_type": "markdown",
   "metadata": {},
   "source": [
    "# TCCM school - Multiscale, Machine Learning and QSAR methods applied to biomolecules\n",
    "\n",
    "## Convolutional Neural Network Homework with Keras\n",
    "\n",
    "Model and train a network that classifies MNIST images with at least an accuracy of 95%.\n",
    "\n",
    "see https://github.com/so07/TCCM-DL-2022/blob/main/keras-02-mnist.ipynb for example."
   ]
  },
  {
   "cell_type": "code",
   "execution_count": 1,
   "metadata": {},
   "outputs": [],
   "source": [
    "import numpy as np\n",
    "import matplotlib.pyplot as plt\n",
    "\n",
    "from tensorflow.keras.models import Sequential\n",
    "from tensorflow.keras.layers import Dense, Conv2D, Flatten, MaxPooling2D, Dropout"
   ]
  },
  {
   "cell_type": "markdown",
   "metadata": {},
   "source": [
    "Download MNIST dataset with Keras utilities:"
   ]
  },
  {
   "cell_type": "code",
   "execution_count": 2,
   "metadata": {},
   "outputs": [],
   "source": [
    "from tensorflow.keras.datasets import mnist\n",
    "\n",
    "(train_images, train_labels), (test_images, test_labels) = mnist.load_data()"
   ]
  },
  {
   "cell_type": "code",
   "execution_count": 3,
   "metadata": {},
   "outputs": [],
   "source": [
    "# use only a subset of MNIST images\n",
    "num_samples = 30000\n",
    "train_images = train_images[:num_samples,...]\n",
    "train_labels = train_labels[:num_samples]"
   ]
  },
  {
   "cell_type": "code",
   "execution_count": 4,
   "metadata": {},
   "outputs": [
    {
     "name": "stdout",
     "output_type": "stream",
     "text": [
      "Train dataset has shape (30000, 28, 28) and type uint8\n",
      "Test dataset has shape (10000, 28, 28) and type uint8\n"
     ]
    }
   ],
   "source": [
    "print(\"Train dataset has shape\", train_images.shape, \"and type\", train_images.dtype)\n",
    "print(\"Test dataset has shape\", test_images.shape, \"and type\", test_images.dtype)"
   ]
  },
  {
   "cell_type": "markdown",
   "metadata": {},
   "source": [
    "## Prepare dataset\n",
    "\n",
    "The images in MNIST dataset are stored as array of integer with value between 0 and 255. \\\n",
    "Neural network layers work on float, thus we need to cast the input to `float32` type. \\\n",
    "It is also convenient, for convergency reasons, to normalize the input range values between [0, 1]."
   ]
  },
  {
   "cell_type": "code",
   "execution_count": 5,
   "metadata": {},
   "outputs": [],
   "source": [
    "x_train = train_images.reshape(train_images.shape[0], 28, 28, 1)\n",
    "x_test = test_images.reshape(test_images.shape[0], 28, 28, 1)\n",
    "\n",
    "# normalize images\n",
    "x_train = x_train.astype(\"float32\") / 255.\n",
    "x_test = x_test.astype(\"float32\") / 255."
   ]
  },
  {
   "cell_type": "markdown",
   "metadata": {},
   "source": [
    "### Build categorical matrices\n",
    "\n",
    "In the case of labels we have an array 1D with the value of the label.\n",
    "Instead we should represent labels as categorical matrix,\n",
    "for each images we should have an array of 10 different classes with the probability for each classes. \\\n",
    "In the case of target for each images\n",
    "we have an array of 10 elements with 1 on the right label and 0 otherwise.\n"
   ]
  },
  {
   "cell_type": "code",
   "execution_count": 6,
   "metadata": {},
   "outputs": [
    {
     "data": {
      "text/plain": [
       "array([5, 0, 4, ..., 6, 7, 1], dtype=uint8)"
      ]
     },
     "execution_count": 6,
     "metadata": {},
     "output_type": "execute_result"
    }
   ],
   "source": [
    "train_labels"
   ]
  },
  {
   "cell_type": "code",
   "execution_count": 7,
   "metadata": {},
   "outputs": [],
   "source": [
    "import tensorflow.keras.utils as np_utils\n",
    "\n",
    "# convert 1-dimensional class arrays to 10-dimensional class matrices\n",
    "y_train = np_utils.to_categorical(train_labels, num_classes=10)\n",
    "y_test = np_utils.to_categorical(test_labels, num_classes=10)"
   ]
  },
  {
   "cell_type": "code",
   "execution_count": 8,
   "metadata": {},
   "outputs": [
    {
     "data": {
      "text/plain": [
       "array([[0., 0., 0., 0., 0., 1., 0., 0., 0., 0.],\n",
       "       [1., 0., 0., 0., 0., 0., 0., 0., 0., 0.],\n",
       "       [0., 0., 0., 0., 1., 0., 0., 0., 0., 0.]], dtype=float32)"
      ]
     },
     "execution_count": 8,
     "metadata": {},
     "output_type": "execute_result"
    }
   ],
   "source": [
    "y_train[:3]"
   ]
  },
  {
   "cell_type": "markdown",
   "metadata": {},
   "source": [
    "## Build model\n",
    "\n",
    "Use Convolutional, Pooling, Dropout layers to build a model that recognize the MNIST digits.\n",
    "Use Sequential class and groups a linear stack of layers.\n",
    "Remember to use a dense output layer with 10 nodes and a `softmax` activation function."
   ]
  },
  {
   "cell_type": "code",
   "execution_count": 9,
   "metadata": {},
   "outputs": [],
   "source": [
    "input_shape = (28, 28, 1)\n",
    "\n",
    "model = Sequential()\n",
    "\n",
    "# insert layers here\n",
    "#\n",
    "# ...\n",
    "#\n",
    "\n",
    "model.add(Dense(10, activation=\"softmax\"))"
   ]
  },
  {
   "cell_type": "code",
   "execution_count": 10,
   "metadata": {},
   "outputs": [],
   "source": [
    "model.compile(loss=\"categorical_crossentropy\",\n",
    "              optimizer=\"Adam\",\n",
    "              metrics=[\"accuracy\"])"
   ]
  },
  {
   "cell_type": "code",
   "execution_count": 11,
   "metadata": {},
   "outputs": [
    {
     "name": "stdout",
     "output_type": "stream",
     "text": [
      "Model: \"sequential\"\n",
      "_________________________________________________________________\n",
      " Layer (type)                Output Shape              Param #   \n",
      "=================================================================\n",
      " conv2d (Conv2D)             (None, 26, 26, 32)        320       \n",
      "                                                                 \n",
      " max_pooling2d (MaxPooling2D  (None, 13, 13, 32)       0         \n",
      " )                                                               \n",
      "                                                                 \n",
      " dropout (Dropout)           (None, 13, 13, 32)        0         \n",
      "                                                                 \n",
      " flatten (Flatten)           (None, 5408)              0         \n",
      "                                                                 \n",
      " dense (Dense)               (None, 10)                54090     \n",
      "                                                                 \n",
      "=================================================================\n",
      "Total params: 54,410\n",
      "Trainable params: 54,410\n",
      "Non-trainable params: 0\n",
      "_________________________________________________________________\n"
     ]
    }
   ],
   "source": [
    "model.summary()"
   ]
  },
  {
   "cell_type": "markdown",
   "metadata": {},
   "source": [
    "Train the model using `fit` function. \n",
    "At least 10 epochs should be sufficient to achieve good results."
   ]
  },
  {
   "cell_type": "code",
   "execution_count": 12,
   "metadata": {},
   "outputs": [
    {
     "name": "stdout",
     "output_type": "stream",
     "text": [
      "Epoch 1/10\n"
     ]
    },
    {
     "name": "stderr",
     "output_type": "stream",
     "text": [
      "2022-09-27 09:21:07.716659: W tensorflow/stream_executor/gpu/asm_compiler.cc:111] *** WARNING *** You are using ptxas 11.0.194, which is older than 11.1. ptxas before 11.1 is known to miscompile XLA code, leading to incorrect results or invalid-address errors.\n",
      "\n",
      "You may not need to update to CUDA 11.1; cherry-picking the ptxas binary is often sufficient.\n"
     ]
    },
    {
     "name": "stdout",
     "output_type": "stream",
     "text": [
      "188/188 - 4s - loss: 0.6190 - accuracy: 0.8298 - val_loss: 0.2941 - val_accuracy: 0.9168 - 4s/epoch - 20ms/step\n",
      "Epoch 2/10\n",
      "188/188 - 1s - loss: 0.2674 - accuracy: 0.9205 - val_loss: 0.2159 - val_accuracy: 0.9390 - 1s/epoch - 5ms/step\n",
      "Epoch 3/10\n",
      "188/188 - 1s - loss: 0.1993 - accuracy: 0.9426 - val_loss: 0.1694 - val_accuracy: 0.9520 - 919ms/epoch - 5ms/step\n",
      "Epoch 4/10\n",
      "188/188 - 1s - loss: 0.1616 - accuracy: 0.9536 - val_loss: 0.1409 - val_accuracy: 0.9608 - 955ms/epoch - 5ms/step\n",
      "Epoch 5/10\n",
      "188/188 - 1s - loss: 0.1423 - accuracy: 0.9579 - val_loss: 0.1294 - val_accuracy: 0.9652 - 1s/epoch - 6ms/step\n",
      "Epoch 6/10\n",
      "188/188 - 1s - loss: 0.1283 - accuracy: 0.9634 - val_loss: 0.1170 - val_accuracy: 0.9665 - 1s/epoch - 5ms/step\n",
      "Epoch 7/10\n",
      "188/188 - 1s - loss: 0.1150 - accuracy: 0.9664 - val_loss: 0.1062 - val_accuracy: 0.9712 - 920ms/epoch - 5ms/step\n",
      "Epoch 8/10\n",
      "188/188 - 1s - loss: 0.1069 - accuracy: 0.9683 - val_loss: 0.1001 - val_accuracy: 0.9720 - 928ms/epoch - 5ms/step\n",
      "Epoch 9/10\n",
      "188/188 - 1s - loss: 0.1000 - accuracy: 0.9698 - val_loss: 0.0961 - val_accuracy: 0.9752 - 1s/epoch - 5ms/step\n",
      "Epoch 10/10\n",
      "188/188 - 1s - loss: 0.0953 - accuracy: 0.9710 - val_loss: 0.0918 - val_accuracy: 0.9743 - 998ms/epoch - 5ms/step\n"
     ]
    }
   ],
   "source": [
    "model.fit(\n",
    "    # insert args here \n",
    "    # ...\n",
    "    batch_size=???, \n",
    "    epochs=???,\n",
    "    verbose=2);"
   ]
  },
  {
   "cell_type": "markdown",
   "metadata": {},
   "source": [
    "Optionally you can control the training process plotting the loss function and the accuracy for training and validation."
   ]
  },
  {
   "cell_type": "code",
   "execution_count": 13,
   "metadata": {},
   "outputs": [],
   "source": [
    "def plot_model_history(model):\n",
    "    \n",
    "    # get history from the model\n",
    "    h = model.history.history\n",
    "\n",
    "    plt.figure(figsize=(15, 5))\n",
    "\n",
    "    # accuracy plot\n",
    "    plt.subplot(121)\n",
    "    plt.title(\"Accuracy\")\n",
    "    plt.plot(h['accuracy'], label=\"train\")\n",
    "    plt.plot(h['val_accuracy'], label=\"validate\")\n",
    "    plt.xlabel(\"Epoch\")\n",
    "    plt.ylabel(\"accuracy\")\n",
    "    plt.legend()\n",
    "\n",
    "    # loss plot\n",
    "    plt.subplot(122)\n",
    "    plt.title(\"Loss\")\n",
    "    plt.plot(h['loss'], label=\"train\")\n",
    "    plt.plot(h['val_loss'], label=\"validate\")\n",
    "    plt.xlabel(\"Epoch\")\n",
    "    plt.ylabel(\"loss\")\n",
    "    plt.legend()\n",
    "\n",
    "    plt.show()"
   ]
  },
  {
   "cell_type": "code",
   "execution_count": 14,
   "metadata": {},
   "outputs": [
    {
     "data": {
      "image/png": "[encoded data removed]",
      "text/plain": [
       "<Figure size 1500x500 with 2 Axes>"
      ]
     },
     "metadata": {},
     "output_type": "display_data"
    }
   ],
   "source": [
    "plot_model_history(model)"
   ]
  },
  {
   "cell_type": "markdown",
   "metadata": {},
   "source": [
    "Once your model has been trained, let's evaluate its score on data not used during traing. \\\n",
    "The `evaluate` method returns a list of two element:\n",
    "the first is the **loss**, the second is the metrics values for the model, in this case the **accuracy**."
   ]
  },
  {
   "cell_type": "code",
   "execution_count": null,
   "metadata": {},
   "outputs": [],
   "source": [
    "score = model.evaluate(x_test, y_test, verbose=0)\n",
    "print(\"Accuracy: %.2f%%\" % (score[1]*100))"
   ]
  }
 ],
 "metadata": {
  "kernelspec": {
   "display_name": "Python 3 (ipykernel)",
   "language": "python",
   "name": "python3"
  },
  "language_info": {
   "codemirror_mode": {
    "name": "ipython",
    "version": 3
   },
   "file_extension": ".py",
   "mimetype": "text/x-python",
   "name": "python",
   "nbconvert_exporter": "python",
   "pygments_lexer": "ipython3",
   "version": "3.8.12"
  }
 },
 "nbformat": 4,
 "nbformat_minor": 2
}
